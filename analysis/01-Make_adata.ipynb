{
 "cells": [
  {
   "cell_type": "markdown",
   "id": "9e30456d-16f6-4889-93c3-68a81316e89d",
   "metadata": {},
   "source": [
    "# Load required libraries"
   ]
  },
  {
   "cell_type": "code",
   "execution_count": 1,
   "id": "c309eb80-3391-4710-8811-f995efecb243",
   "metadata": {},
   "outputs": [],
   "source": [
    "import scanpy as sc\n",
    "import numpy as np\n",
    "import scipy as sp\n",
    "import pandas as pd\n",
    "import matplotlib.pyplot as plt\n",
    "from matplotlib import rcParams\n",
    "from matplotlib import colors\n",
    "import seaborn as sb\n",
    "from gprofiler import GProfiler\n"
   ]
  },
  {
   "cell_type": "code",
   "execution_count": 54,
   "id": "9aac3560-8f08-4250-a273-e14c5e981609",
   "metadata": {},
   "outputs": [
    {
     "ename": "ModuleNotFoundError",
     "evalue": "No module named 'scanpy_helpers'",
     "output_type": "error",
     "traceback": [
      "\u001b[0;31m---------------------------------------------------------------------------\u001b[0m",
      "\u001b[0;31mModuleNotFoundError\u001b[0m                       Traceback (most recent call last)",
      "\u001b[0;32m<ipython-input-54-02f079cd0fed>\u001b[0m in \u001b[0;36m<module>\u001b[0;34m\u001b[0m\n\u001b[1;32m      1\u001b[0m \u001b[0;32mimport\u001b[0m \u001b[0mglob\u001b[0m\u001b[0;34m\u001b[0m\u001b[0;34m\u001b[0m\u001b[0m\n\u001b[1;32m      2\u001b[0m \u001b[0;32mimport\u001b[0m \u001b[0manndata\u001b[0m\u001b[0;34m\u001b[0m\u001b[0;34m\u001b[0m\u001b[0m\n\u001b[0;32m----> 3\u001b[0;31m \u001b[0;32mfrom\u001b[0m \u001b[0mscanpy_helpers\u001b[0m\u001b[0;34m.\u001b[0m\u001b[0mqc_plots\u001b[0m \u001b[0;32mimport\u001b[0m \u001b[0mplot_qc_metrics\u001b[0m\u001b[0;34m,\u001b[0m \u001b[0mget_stats_df\u001b[0m\u001b[0;34m\u001b[0m\u001b[0;34m\u001b[0m\u001b[0m\n\u001b[0m",
      "\u001b[0;31mModuleNotFoundError\u001b[0m: No module named 'scanpy_helpers'"
     ]
    }
   ],
   "source": [
    "import glob\n",
    "import anndata\n",
    "from scanpy_helpers.qc_plots import plot_qc_metrics, get_stats_df"
   ]
  },
  {
   "cell_type": "code",
   "execution_count": 55,
   "id": "36a858a8-b6d6-4d2e-8684-08de18b8a548",
   "metadata": {},
   "outputs": [
    {
     "name": "stdout",
     "output_type": "stream",
     "text": [
      "{'group': 'Ctrl', 'internal_id': 'P150-Ctrl'}\n",
      "{'group': 'A8', 'internal_id': 'P168-A8'}\n",
      "{'group': 'A9', 'internal_id': 'P168-A9'}\n",
      "{'group': 'A8A9', 'internal_id': 'P168-A8A9'}\n",
      "{'group': 'Ctrl', 'internal_id': 'P146-Ctrl'}\n",
      "{'group': 'A8', 'internal_id': 'P146-A8'}\n",
      "{'group': 'A9', 'internal_id': 'P146-A9'}\n",
      "{'group': 'A8A9', 'internal_id': 'P146-A8A9'}\n",
      "{'group': 'A8', 'internal_id': 'P150-A8'}\n",
      "{'group': 'A9', 'internal_id': 'P150-A9'}\n",
      "{'group': 'A8A9', 'internal_id': 'P150-A8A9'}\n",
      "{'group': 'Ctrl', 'internal_id': 'P148-Ctrl'}\n",
      "{'group': 'A8', 'internal_id': 'P148-A8'}\n",
      "{'group': 'A9', 'internal_id': 'P148-A9'}\n",
      "{'group': 'A8A9', 'internal_id': 'P148-A8A9'}\n",
      "{'group': 'Ctrl', 'internal_id': 'P168-Ctrl'}\n"
     ]
    }
   ],
   "source": [
    "pd_meta_dat = pd.read_csv('/home/marteau/Adolph_scRNAseq_organoids/results/samplesheet_scrnaseq.csv',\n",
    "                          index_col='sample')\n",
    "pd_meta_dat = pd_meta_dat.drop(axis=\"columns\", labels=[\"fastq_1\", \"fastq_2\"])\n",
    "for f, sample in zip(pd_meta_dat.index, pd_meta_dat.to_dict(orient=\"records\")):\n",
    "    print(sample)"
   ]
  },
  {
   "cell_type": "code",
   "execution_count": 42,
   "id": "2f2c0276-bbed-431e-bb3e-b5986f0c1d9a",
   "metadata": {},
   "outputs": [
    {
     "data": {
      "text/plain": [
       "Index(['TA1', 'TA10', 'TA11', 'TA12', 'TA13', 'TA14', 'TA15', 'TA16', 'TA2',\n",
       "       'TA3', 'TA4', 'TA5', 'TA6', 'TA7', 'TA8', 'TA9'],\n",
       "      dtype='object', name='sample')"
      ]
     },
     "execution_count": 42,
     "metadata": {},
     "output_type": "execute_result"
    }
   ],
   "source": [
    "\n"
   ]
  },
  {
   "cell_type": "code",
   "execution_count": null,
   "id": "a353f4df-920b-4941-a8cd-ac8eaf9fc0da",
   "metadata": {},
   "outputs": [],
   "source": [
    "adatas = []\n",
    "for sample in meta.to_dict(orient=\"records\"):\n",
    "    tmp_adata = sc.read_10x_h5(\n",
    "        f\"{input_dir}/sample-{sample['sample']}/outs/filtered_feature_bc_matrix.h5\"\n",
    "    )\n",
    "    tmp_adata.var_names_make_unique()\n",
    "    assert tmp_adata.obs_names.is_unique\n",
    "    tmp_adata.obs = tmp_adata.obs.assign(**sample)\n",
    "    adatas.append(tmp_adata)\n",
    "adata = anndata.concat(adatas, index_unique=\"_\")"
   ]
  },
  {
   "cell_type": "code",
   "execution_count": 3,
   "id": "54795440-4405-46fb-9b6e-a5b636276d2f",
   "metadata": {},
   "outputs": [],
   "source": [
    "#path_list = glob.glob('/home/marteau/Adolph_scRNAseq_organoids/**/filtered_feature_bc_matrix.h5', recursive=True)"
   ]
  },
  {
   "cell_type": "code",
   "execution_count": 35,
   "id": "95f227e9-0458-43c0-9cd7-3a17e87f3b1b",
   "metadata": {},
   "outputs": [
    {
     "ename": "TypeError",
     "evalue": "assign() takes 1 positional argument but 2 were given",
     "output_type": "error",
     "traceback": [
      "\u001b[0;31m---------------------------------------------------------------------------\u001b[0m",
      "\u001b[0;31mTypeError\u001b[0m                                 Traceback (most recent call last)",
      "\u001b[0;32m<ipython-input-35-d8590d512b6a>\u001b[0m in \u001b[0;36m<module>\u001b[0;34m\u001b[0m\n\u001b[0;32m----> 1\u001b[0;31m \u001b[0mdat_l\u001b[0m\u001b[0;34m.\u001b[0m\u001b[0mobs\u001b[0m\u001b[0;34m.\u001b[0m\u001b[0massign\u001b[0m\u001b[0;34m(\u001b[0m\u001b[0minternal_id_f\u001b[0m\u001b[0;34m)\u001b[0m\u001b[0;34m\u001b[0m\u001b[0;34m\u001b[0m\u001b[0m\n\u001b[0m",
      "\u001b[0;31mTypeError\u001b[0m: assign() takes 1 positional argument but 2 were given"
     ]
    }
   ],
   "source": [
    "dat_l.obs.assign(internal_id_f)"
   ]
  },
  {
   "cell_type": "code",
   "execution_count": 43,
   "id": "296a3a36-47f1-40d0-a11a-852cedbffb9a",
   "metadata": {},
   "outputs": [
    {
     "name": "stderr",
     "output_type": "stream",
     "text": [
      "Variable names are not unique. To make them unique, call `.var_names_make_unique`.\n",
      "Variable names are not unique. To make them unique, call `.var_names_make_unique`.\n"
     ]
    },
    {
     "name": "stdout",
     "output_type": "stream",
     "text": [
      "P150-Ctrl\n",
      "(1089, 36601)\n",
      "(1089, 21466)\n"
     ]
    },
    {
     "name": "stderr",
     "output_type": "stream",
     "text": [
      "Variable names are not unique. To make them unique, call `.var_names_make_unique`.\n",
      "Variable names are not unique. To make them unique, call `.var_names_make_unique`.\n"
     ]
    },
    {
     "name": "stdout",
     "output_type": "stream",
     "text": [
      "P168-A8\n",
      "(867, 36601)\n",
      "(867, 21277)\n"
     ]
    },
    {
     "name": "stderr",
     "output_type": "stream",
     "text": [
      "Variable names are not unique. To make them unique, call `.var_names_make_unique`.\n",
      "Variable names are not unique. To make them unique, call `.var_names_make_unique`.\n"
     ]
    },
    {
     "name": "stdout",
     "output_type": "stream",
     "text": [
      "P168-A9\n",
      "(1497, 36601)\n",
      "(1497, 22185)\n"
     ]
    },
    {
     "name": "stderr",
     "output_type": "stream",
     "text": [
      "Variable names are not unique. To make them unique, call `.var_names_make_unique`.\n",
      "Variable names are not unique. To make them unique, call `.var_names_make_unique`.\n"
     ]
    },
    {
     "name": "stdout",
     "output_type": "stream",
     "text": [
      "P168-A8A9\n",
      "(702, 36601)\n",
      "(702, 21153)\n"
     ]
    },
    {
     "name": "stderr",
     "output_type": "stream",
     "text": [
      "Variable names are not unique. To make them unique, call `.var_names_make_unique`.\n",
      "Variable names are not unique. To make them unique, call `.var_names_make_unique`.\n"
     ]
    },
    {
     "name": "stdout",
     "output_type": "stream",
     "text": [
      "P146-Ctrl\n",
      "(2414, 36601)\n",
      "(2414, 21187)\n"
     ]
    },
    {
     "name": "stderr",
     "output_type": "stream",
     "text": [
      "Variable names are not unique. To make them unique, call `.var_names_make_unique`.\n",
      "Variable names are not unique. To make them unique, call `.var_names_make_unique`.\n"
     ]
    },
    {
     "name": "stdout",
     "output_type": "stream",
     "text": [
      "P146-A8\n",
      "(3333, 36601)\n",
      "(3333, 21792)\n"
     ]
    },
    {
     "name": "stderr",
     "output_type": "stream",
     "text": [
      "Variable names are not unique. To make them unique, call `.var_names_make_unique`.\n",
      "Variable names are not unique. To make them unique, call `.var_names_make_unique`.\n"
     ]
    },
    {
     "name": "stdout",
     "output_type": "stream",
     "text": [
      "P146-A9\n",
      "(3090, 36601)\n",
      "(3090, 21307)\n"
     ]
    },
    {
     "name": "stderr",
     "output_type": "stream",
     "text": [
      "Variable names are not unique. To make them unique, call `.var_names_make_unique`.\n",
      "Variable names are not unique. To make them unique, call `.var_names_make_unique`.\n"
     ]
    },
    {
     "name": "stdout",
     "output_type": "stream",
     "text": [
      "P146-A8A9\n",
      "(2015, 36601)\n",
      "(2015, 22121)\n"
     ]
    },
    {
     "name": "stderr",
     "output_type": "stream",
     "text": [
      "Variable names are not unique. To make them unique, call `.var_names_make_unique`.\n",
      "Variable names are not unique. To make them unique, call `.var_names_make_unique`.\n"
     ]
    },
    {
     "name": "stdout",
     "output_type": "stream",
     "text": [
      "P150-A8\n",
      "(2021, 36601)\n"
     ]
    },
    {
     "name": "stderr",
     "output_type": "stream",
     "text": [
      "Variable names are not unique. To make them unique, call `.var_names_make_unique`.\n"
     ]
    },
    {
     "name": "stdout",
     "output_type": "stream",
     "text": [
      "(2021, 21788)\n"
     ]
    },
    {
     "name": "stderr",
     "output_type": "stream",
     "text": [
      "Variable names are not unique. To make them unique, call `.var_names_make_unique`.\n"
     ]
    },
    {
     "name": "stdout",
     "output_type": "stream",
     "text": [
      "P150-A9\n",
      "(418, 36601)\n",
      "(418, 20994)\n"
     ]
    },
    {
     "name": "stderr",
     "output_type": "stream",
     "text": [
      "Variable names are not unique. To make them unique, call `.var_names_make_unique`.\n",
      "Variable names are not unique. To make them unique, call `.var_names_make_unique`.\n"
     ]
    },
    {
     "name": "stdout",
     "output_type": "stream",
     "text": [
      "P150-A8A9\n",
      "(452, 36601)\n",
      "(452, 21106)\n"
     ]
    },
    {
     "name": "stderr",
     "output_type": "stream",
     "text": [
      "Variable names are not unique. To make them unique, call `.var_names_make_unique`.\n",
      "Variable names are not unique. To make them unique, call `.var_names_make_unique`.\n"
     ]
    },
    {
     "name": "stdout",
     "output_type": "stream",
     "text": [
      "P148-Ctrl\n",
      "(2953, 36601)\n",
      "(2953, 21761)\n"
     ]
    },
    {
     "name": "stderr",
     "output_type": "stream",
     "text": [
      "Variable names are not unique. To make them unique, call `.var_names_make_unique`.\n",
      "Variable names are not unique. To make them unique, call `.var_names_make_unique`.\n"
     ]
    },
    {
     "name": "stdout",
     "output_type": "stream",
     "text": [
      "P148-A8\n",
      "(2853, 36601)\n"
     ]
    },
    {
     "name": "stderr",
     "output_type": "stream",
     "text": [
      "Variable names are not unique. To make them unique, call `.var_names_make_unique`.\n"
     ]
    },
    {
     "name": "stdout",
     "output_type": "stream",
     "text": [
      "(2853, 21792)\n"
     ]
    },
    {
     "name": "stderr",
     "output_type": "stream",
     "text": [
      "Variable names are not unique. To make them unique, call `.var_names_make_unique`.\n"
     ]
    },
    {
     "name": "stdout",
     "output_type": "stream",
     "text": [
      "P148-A9\n",
      "(1030, 36601)\n"
     ]
    },
    {
     "name": "stderr",
     "output_type": "stream",
     "text": [
      "Variable names are not unique. To make them unique, call `.var_names_make_unique`.\n"
     ]
    },
    {
     "name": "stdout",
     "output_type": "stream",
     "text": [
      "(1030, 20391)\n"
     ]
    },
    {
     "name": "stderr",
     "output_type": "stream",
     "text": [
      "Variable names are not unique. To make them unique, call `.var_names_make_unique`.\n"
     ]
    },
    {
     "name": "stdout",
     "output_type": "stream",
     "text": [
      "P148-A8A9\n",
      "(693, 36601)\n",
      "(693, 20237)\n"
     ]
    },
    {
     "name": "stderr",
     "output_type": "stream",
     "text": [
      "Variable names are not unique. To make them unique, call `.var_names_make_unique`.\n",
      "Variable names are not unique. To make them unique, call `.var_names_make_unique`.\n"
     ]
    },
    {
     "name": "stdout",
     "output_type": "stream",
     "text": [
      "P168-Ctrl\n",
      "(1624, 36601)\n",
      "(1624, 22239)\n"
     ]
    }
   ],
   "source": [
    "path_list2 = []\n",
    "dat_dict = {}\n",
    "adatas_list = []\n",
    "for ind, sample in zip(pd_meta_dat.index, pd_meta_dat.to_dict(orient=\"records\")):\n",
    "\n",
    "    pathi = f'/home/marteau/Adolph_scRNAseq_organoids/data/cellranger/sample-{ind}/outs/filtered_feature_bc_matrix.h5'\n",
    "    path_list2.append(pathi)\n",
    "    dat_l = sc.read_10x_h5(pathi)\n",
    "    dat_l.var_names_make_unique()\n",
    "    assert dat_l.obs_names.is_unique\n",
    "    dat_l.obs = dat_l.obs.assign(**sample)\n",
    "    adatas_list.append(dat_l)\n",
    "    \n",
    "    internal_id_f = pd_meta_dat.loc[f'{ind}', 'internal_id']\n",
    "    dat_dict[internal_id_f] = dat_l \n",
    "    print(internal_id_f)\n",
    "    print(dat_l.shape)\n",
    "    pd_dat_l = dat_l.to_df()\n",
    "    assert len(pd_dat_l.loc[pd_dat_l.sum(axis=1) == 0]) == 0\n",
    "    col_sel = pd_dat_l.columns[(pd_dat_l.sum(axis=0)!=0).values]\n",
    "    pd_sub_dat_l = pd_dat_l[col_sel]    \n",
    "    print(pd_sub_dat_l.shape)"
   ]
  },
  {
   "cell_type": "code",
   "execution_count": 46,
   "id": "34b040f4-2d15-4e5d-9ea4-1a7ba3315d31",
   "metadata": {},
   "outputs": [],
   "source": [
    "adata = anndata.concat(adatas_list, index_unique=\"_\")"
   ]
  },
  {
   "cell_type": "code",
   "execution_count": 50,
   "id": "bc4e0989-a457-4e68-b573-1b9bb2f963b0",
   "metadata": {},
   "outputs": [
    {
     "ename": "Exception",
     "evalue": "Data must be 1-dimensional",
     "output_type": "error",
     "traceback": [
      "\u001b[0;31m---------------------------------------------------------------------------\u001b[0m",
      "\u001b[0;31mException\u001b[0m                                 Traceback (most recent call last)",
      "\u001b[0;32m<ipython-input-50-daab295460d9>\u001b[0m in \u001b[0;36m<module>\u001b[0;34m\u001b[0m\n\u001b[1;32m      5\u001b[0m \u001b[0;34m\u001b[0m\u001b[0m\n\u001b[1;32m      6\u001b[0m \u001b[0mmt_gene_mask\u001b[0m \u001b[0;34m=\u001b[0m \u001b[0;34m[\u001b[0m\u001b[0mgene\u001b[0m\u001b[0;34m.\u001b[0m\u001b[0mstartswith\u001b[0m\u001b[0;34m(\u001b[0m\u001b[0;34m'mt-'\u001b[0m\u001b[0;34m)\u001b[0m \u001b[0;32mfor\u001b[0m \u001b[0mgene\u001b[0m \u001b[0;32min\u001b[0m \u001b[0madata\u001b[0m\u001b[0;34m.\u001b[0m\u001b[0mvar_names\u001b[0m\u001b[0;34m]\u001b[0m\u001b[0;34m\u001b[0m\u001b[0;34m\u001b[0m\u001b[0m\n\u001b[0;32m----> 7\u001b[0;31m \u001b[0madata\u001b[0m\u001b[0;34m.\u001b[0m\u001b[0mobs\u001b[0m\u001b[0;34m[\u001b[0m\u001b[0;34m'mt_frac'\u001b[0m\u001b[0;34m]\u001b[0m \u001b[0;34m=\u001b[0m \u001b[0madata\u001b[0m\u001b[0;34m.\u001b[0m\u001b[0mX\u001b[0m\u001b[0;34m[\u001b[0m\u001b[0;34m:\u001b[0m\u001b[0;34m,\u001b[0m \u001b[0mmt_gene_mask\u001b[0m\u001b[0;34m]\u001b[0m\u001b[0;34m.\u001b[0m\u001b[0msum\u001b[0m\u001b[0;34m(\u001b[0m\u001b[0;36m1\u001b[0m\u001b[0;34m)\u001b[0m\u001b[0;34m/\u001b[0m\u001b[0madata\u001b[0m\u001b[0;34m.\u001b[0m\u001b[0mobs\u001b[0m\u001b[0;34m[\u001b[0m\u001b[0;34m'n_counts'\u001b[0m\u001b[0;34m]\u001b[0m\u001b[0;34m\u001b[0m\u001b[0;34m\u001b[0m\u001b[0m\n\u001b[0m",
      "\u001b[0;32m~/.conda/envs/sc-tutorial/lib/python3.6/site-packages/pandas/core/series.py\u001b[0m in \u001b[0;36m__array_ufunc__\u001b[0;34m(self, ufunc, method, *inputs, **kwargs)\u001b[0m\n\u001b[1;32m    681\u001b[0m         \u001b[0;31m# for binary ops, use our custom dunder methods\u001b[0m\u001b[0;34m\u001b[0m\u001b[0;34m\u001b[0m\u001b[0;34m\u001b[0m\u001b[0m\n\u001b[1;32m    682\u001b[0m         result = ops.maybe_dispatch_ufunc_to_dunder_op(\n\u001b[0;32m--> 683\u001b[0;31m             \u001b[0mself\u001b[0m\u001b[0;34m,\u001b[0m \u001b[0mufunc\u001b[0m\u001b[0;34m,\u001b[0m \u001b[0mmethod\u001b[0m\u001b[0;34m,\u001b[0m \u001b[0;34m*\u001b[0m\u001b[0minputs\u001b[0m\u001b[0;34m,\u001b[0m \u001b[0;34m**\u001b[0m\u001b[0mkwargs\u001b[0m\u001b[0;34m\u001b[0m\u001b[0;34m\u001b[0m\u001b[0m\n\u001b[0m\u001b[1;32m    684\u001b[0m         )\n\u001b[1;32m    685\u001b[0m         \u001b[0;32mif\u001b[0m \u001b[0mresult\u001b[0m \u001b[0;32mis\u001b[0m \u001b[0;32mnot\u001b[0m \u001b[0mNotImplemented\u001b[0m\u001b[0;34m:\u001b[0m\u001b[0;34m\u001b[0m\u001b[0;34m\u001b[0m\u001b[0m\n",
      "\u001b[0;32mpandas/_libs/ops_dispatch.pyx\u001b[0m in \u001b[0;36mpandas._libs.ops_dispatch.maybe_dispatch_ufunc_to_dunder_op\u001b[0;34m()\u001b[0m\n",
      "\u001b[0;32m~/.conda/envs/sc-tutorial/lib/python3.6/site-packages/pandas/core/ops/common.py\u001b[0m in \u001b[0;36mnew_method\u001b[0;34m(self, other)\u001b[0m\n\u001b[1;32m     63\u001b[0m         \u001b[0mother\u001b[0m \u001b[0;34m=\u001b[0m \u001b[0mitem_from_zerodim\u001b[0m\u001b[0;34m(\u001b[0m\u001b[0mother\u001b[0m\u001b[0;34m)\u001b[0m\u001b[0;34m\u001b[0m\u001b[0;34m\u001b[0m\u001b[0m\n\u001b[1;32m     64\u001b[0m \u001b[0;34m\u001b[0m\u001b[0m\n\u001b[0;32m---> 65\u001b[0;31m         \u001b[0;32mreturn\u001b[0m \u001b[0mmethod\u001b[0m\u001b[0;34m(\u001b[0m\u001b[0mself\u001b[0m\u001b[0;34m,\u001b[0m \u001b[0mother\u001b[0m\u001b[0;34m)\u001b[0m\u001b[0;34m\u001b[0m\u001b[0;34m\u001b[0m\u001b[0m\n\u001b[0m\u001b[1;32m     66\u001b[0m \u001b[0;34m\u001b[0m\u001b[0m\n\u001b[1;32m     67\u001b[0m     \u001b[0;32mreturn\u001b[0m \u001b[0mnew_method\u001b[0m\u001b[0;34m\u001b[0m\u001b[0;34m\u001b[0m\u001b[0m\n",
      "\u001b[0;32m~/.conda/envs/sc-tutorial/lib/python3.6/site-packages/pandas/core/ops/__init__.py\u001b[0m in \u001b[0;36mwrapper\u001b[0;34m(left, right)\u001b[0m\n\u001b[1;32m    343\u001b[0m         \u001b[0mresult\u001b[0m \u001b[0;34m=\u001b[0m \u001b[0marithmetic_op\u001b[0m\u001b[0;34m(\u001b[0m\u001b[0mlvalues\u001b[0m\u001b[0;34m,\u001b[0m \u001b[0mrvalues\u001b[0m\u001b[0;34m,\u001b[0m \u001b[0mop\u001b[0m\u001b[0;34m)\u001b[0m\u001b[0;34m\u001b[0m\u001b[0;34m\u001b[0m\u001b[0m\n\u001b[1;32m    344\u001b[0m \u001b[0;34m\u001b[0m\u001b[0m\n\u001b[0;32m--> 345\u001b[0;31m         \u001b[0;32mreturn\u001b[0m \u001b[0mleft\u001b[0m\u001b[0;34m.\u001b[0m\u001b[0m_construct_result\u001b[0m\u001b[0;34m(\u001b[0m\u001b[0mresult\u001b[0m\u001b[0;34m,\u001b[0m \u001b[0mname\u001b[0m\u001b[0;34m=\u001b[0m\u001b[0mres_name\u001b[0m\u001b[0;34m)\u001b[0m\u001b[0;34m\u001b[0m\u001b[0;34m\u001b[0m\u001b[0m\n\u001b[0m\u001b[1;32m    346\u001b[0m \u001b[0;34m\u001b[0m\u001b[0m\n\u001b[1;32m    347\u001b[0m     \u001b[0mwrapper\u001b[0m\u001b[0;34m.\u001b[0m\u001b[0m__name__\u001b[0m \u001b[0;34m=\u001b[0m \u001b[0mop_name\u001b[0m\u001b[0;34m\u001b[0m\u001b[0;34m\u001b[0m\u001b[0m\n",
      "\u001b[0;32m~/.conda/envs/sc-tutorial/lib/python3.6/site-packages/pandas/core/series.py\u001b[0m in \u001b[0;36m_construct_result\u001b[0;34m(self, result, name)\u001b[0m\n\u001b[1;32m   2768\u001b[0m         \u001b[0;31m# We do not pass dtype to ensure that the Series constructor\u001b[0m\u001b[0;34m\u001b[0m\u001b[0;34m\u001b[0m\u001b[0;34m\u001b[0m\u001b[0m\n\u001b[1;32m   2769\u001b[0m         \u001b[0;31m#  does inference in the case where `result` has object-dtype.\u001b[0m\u001b[0;34m\u001b[0m\u001b[0;34m\u001b[0m\u001b[0;34m\u001b[0m\u001b[0m\n\u001b[0;32m-> 2770\u001b[0;31m         \u001b[0mout\u001b[0m \u001b[0;34m=\u001b[0m \u001b[0mself\u001b[0m\u001b[0;34m.\u001b[0m\u001b[0m_constructor\u001b[0m\u001b[0;34m(\u001b[0m\u001b[0mresult\u001b[0m\u001b[0;34m,\u001b[0m \u001b[0mindex\u001b[0m\u001b[0;34m=\u001b[0m\u001b[0mself\u001b[0m\u001b[0;34m.\u001b[0m\u001b[0mindex\u001b[0m\u001b[0;34m)\u001b[0m\u001b[0;34m\u001b[0m\u001b[0;34m\u001b[0m\u001b[0m\n\u001b[0m\u001b[1;32m   2771\u001b[0m         \u001b[0mout\u001b[0m \u001b[0;34m=\u001b[0m \u001b[0mout\u001b[0m\u001b[0;34m.\u001b[0m\u001b[0m__finalize__\u001b[0m\u001b[0;34m(\u001b[0m\u001b[0mself\u001b[0m\u001b[0;34m)\u001b[0m\u001b[0;34m\u001b[0m\u001b[0;34m\u001b[0m\u001b[0m\n\u001b[1;32m   2772\u001b[0m \u001b[0;34m\u001b[0m\u001b[0m\n",
      "\u001b[0;32m~/.conda/envs/sc-tutorial/lib/python3.6/site-packages/pandas/core/series.py\u001b[0m in \u001b[0;36m__init__\u001b[0;34m(self, data, index, dtype, name, copy, fastpath)\u001b[0m\n\u001b[1;32m    325\u001b[0m                     \u001b[0mdata\u001b[0m \u001b[0;34m=\u001b[0m \u001b[0mdata\u001b[0m\u001b[0;34m.\u001b[0m\u001b[0mcopy\u001b[0m\u001b[0;34m(\u001b[0m\u001b[0;34m)\u001b[0m\u001b[0;34m\u001b[0m\u001b[0;34m\u001b[0m\u001b[0m\n\u001b[1;32m    326\u001b[0m             \u001b[0;32melse\u001b[0m\u001b[0;34m:\u001b[0m\u001b[0;34m\u001b[0m\u001b[0;34m\u001b[0m\u001b[0m\n\u001b[0;32m--> 327\u001b[0;31m                 \u001b[0mdata\u001b[0m \u001b[0;34m=\u001b[0m \u001b[0msanitize_array\u001b[0m\u001b[0;34m(\u001b[0m\u001b[0mdata\u001b[0m\u001b[0;34m,\u001b[0m \u001b[0mindex\u001b[0m\u001b[0;34m,\u001b[0m \u001b[0mdtype\u001b[0m\u001b[0;34m,\u001b[0m \u001b[0mcopy\u001b[0m\u001b[0;34m,\u001b[0m \u001b[0mraise_cast_failure\u001b[0m\u001b[0;34m=\u001b[0m\u001b[0;32mTrue\u001b[0m\u001b[0;34m)\u001b[0m\u001b[0;34m\u001b[0m\u001b[0;34m\u001b[0m\u001b[0m\n\u001b[0m\u001b[1;32m    328\u001b[0m \u001b[0;34m\u001b[0m\u001b[0m\n\u001b[1;32m    329\u001b[0m                 \u001b[0mdata\u001b[0m \u001b[0;34m=\u001b[0m \u001b[0mSingleBlockManager\u001b[0m\u001b[0;34m.\u001b[0m\u001b[0mfrom_array\u001b[0m\u001b[0;34m(\u001b[0m\u001b[0mdata\u001b[0m\u001b[0;34m,\u001b[0m \u001b[0mindex\u001b[0m\u001b[0;34m)\u001b[0m\u001b[0;34m\u001b[0m\u001b[0;34m\u001b[0m\u001b[0m\n",
      "\u001b[0;32m~/.conda/envs/sc-tutorial/lib/python3.6/site-packages/pandas/core/construction.py\u001b[0m in \u001b[0;36msanitize_array\u001b[0;34m(data, index, dtype, copy, raise_cast_failure)\u001b[0m\n\u001b[1;32m    494\u001b[0m     \u001b[0;32melif\u001b[0m \u001b[0msubarr\u001b[0m\u001b[0;34m.\u001b[0m\u001b[0mndim\u001b[0m \u001b[0;34m>\u001b[0m \u001b[0;36m1\u001b[0m\u001b[0;34m:\u001b[0m\u001b[0;34m\u001b[0m\u001b[0;34m\u001b[0m\u001b[0m\n\u001b[1;32m    495\u001b[0m         \u001b[0;32mif\u001b[0m \u001b[0misinstance\u001b[0m\u001b[0;34m(\u001b[0m\u001b[0mdata\u001b[0m\u001b[0;34m,\u001b[0m \u001b[0mnp\u001b[0m\u001b[0;34m.\u001b[0m\u001b[0mndarray\u001b[0m\u001b[0;34m)\u001b[0m\u001b[0;34m:\u001b[0m\u001b[0;34m\u001b[0m\u001b[0;34m\u001b[0m\u001b[0m\n\u001b[0;32m--> 496\u001b[0;31m             \u001b[0;32mraise\u001b[0m \u001b[0mException\u001b[0m\u001b[0;34m(\u001b[0m\u001b[0;34m\"Data must be 1-dimensional\"\u001b[0m\u001b[0;34m)\u001b[0m\u001b[0;34m\u001b[0m\u001b[0;34m\u001b[0m\u001b[0m\n\u001b[0m\u001b[1;32m    497\u001b[0m         \u001b[0;32melse\u001b[0m\u001b[0;34m:\u001b[0m\u001b[0;34m\u001b[0m\u001b[0;34m\u001b[0m\u001b[0m\n\u001b[1;32m    498\u001b[0m             \u001b[0msubarr\u001b[0m \u001b[0;34m=\u001b[0m \u001b[0mcom\u001b[0m\u001b[0;34m.\u001b[0m\u001b[0masarray_tuplesafe\u001b[0m\u001b[0;34m(\u001b[0m\u001b[0mdata\u001b[0m\u001b[0;34m,\u001b[0m \u001b[0mdtype\u001b[0m\u001b[0;34m=\u001b[0m\u001b[0mdtype\u001b[0m\u001b[0;34m)\u001b[0m\u001b[0;34m\u001b[0m\u001b[0;34m\u001b[0m\u001b[0m\n",
      "\u001b[0;31mException\u001b[0m: Data must be 1-dimensional"
     ]
    }
   ],
   "source": [
    "# Quality control - calculate QC covariates\n",
    "adata.obs['n_counts'] = adata.X.sum(1)\n",
    "adata.obs['log_counts'] = np.log(adata.obs['n_counts'])\n",
    "adata.obs['n_genes'] = (adata.X > 0).sum(1)\n",
    "\n",
    "mt_gene_mask = [gene.startswith('mt-') for gene in adata.var_names]\n",
    "adata.obs['mt_frac'] = adata.X[:, mt_gene_mask].sum(1)/adata.obs['n_counts']"
   ]
  },
  {
   "cell_type": "code",
   "execution_count": null,
   "id": "d9bc3478-6d25-4362-8872-c9795802869e",
   "metadata": {},
   "outputs": [],
   "source": []
  },
  {
   "cell_type": "code",
   "execution_count": 52,
   "id": "32e44ac0-8dbe-4528-9c21-c6ddb5eb639b",
   "metadata": {},
   "outputs": [],
   "source": [
    "if \"mito\" not in adata.var.columns:\n",
    "    adata.var[\"mito\"] = adata.var_names.str.lower().str.startswith(\"mt-\")\n",
    "# %%\n",
    "sc.pp.calculate_qc_metrics(\n",
    "    adata, qc_vars=(\"mito\",), log1p=False, inplace=True, percent_top=None\n",
    ")"
   ]
  },
  {
   "cell_type": "code",
   "execution_count": 53,
   "id": "d2724e27-2917-41f7-8fca-1f730797df96",
   "metadata": {},
   "outputs": [
    {
     "ename": "NameError",
     "evalue": "name 'get_stats_df' is not defined",
     "output_type": "error",
     "traceback": [
      "\u001b[0;31m---------------------------------------------------------------------------\u001b[0m",
      "\u001b[0;31mNameError\u001b[0m                                 Traceback (most recent call last)",
      "\u001b[0;32m<ipython-input-53-87ae52ce794f>\u001b[0m in \u001b[0;36m<module>\u001b[0;34m\u001b[0m\n\u001b[0;32m----> 1\u001b[0;31m \u001b[0mstats_before\u001b[0m \u001b[0;34m=\u001b[0m \u001b[0mget_stats_df\u001b[0m\u001b[0;34m(\u001b[0m\u001b[0madata\u001b[0m\u001b[0;34m,\u001b[0m \u001b[0;34m\"Adolph\"\u001b[0m\u001b[0;34m)\u001b[0m\u001b[0;34m.\u001b[0m\u001b[0massign\u001b[0m\u001b[0;34m(\u001b[0m\u001b[0mstatus\u001b[0m\u001b[0;34m=\u001b[0m\u001b[0;34m[\u001b[0m\u001b[0;34m\"before_qc\"\u001b[0m\u001b[0;34m]\u001b[0m\u001b[0;34m)\u001b[0m\u001b[0;34m\u001b[0m\u001b[0;34m\u001b[0m\u001b[0m\n\u001b[0m",
      "\u001b[0;31mNameError\u001b[0m: name 'get_stats_df' is not defined"
     ]
    }
   ],
   "source": [
    "stats_before = get_stats_df(adata, \"Adolph\").assign(status=[\"before_qc\"])"
   ]
  },
  {
   "cell_type": "code",
   "execution_count": null,
   "id": "615b3b56-a04c-401d-8680-4040b96aab1f",
   "metadata": {},
   "outputs": [],
   "source": []
  },
  {
   "cell_type": "code",
   "execution_count": 64,
   "id": "579eef79-7b37-4b73-a06f-bb83b0a2b4f3",
   "metadata": {},
   "outputs": [
    {
     "data": {
      "text/plain": [
       "(1089, 36601)"
      ]
     },
     "execution_count": 64,
     "metadata": {},
     "output_type": "execute_result"
    }
   ],
   "source": [
    "dat.shape"
   ]
  },
  {
   "cell_type": "code",
   "execution_count": 63,
   "id": "76f10d02-1cd7-4427-8452-34f4e7eca3f9",
   "metadata": {},
   "outputs": [
    {
     "name": "stderr",
     "output_type": "stream",
     "text": [
      "Variable names are not unique. To make them unique, call `.var_names_make_unique`.\n",
      "Variable names are not unique. To make them unique, call `.var_names_make_unique`.\n"
     ]
    }
   ],
   "source": [
    "# let's just look at an example file (first of the list here)\n",
    "dat = dat_list[0]\n",
    "dat = sc.read_10x_h5(path)"
   ]
  },
  {
   "cell_type": "code",
   "execution_count": 14,
   "id": "dcd5b1c4-f51a-4999-9110-db8c83727262",
   "metadata": {},
   "outputs": [
    {
     "data": {
      "text/plain": [
       "Index(['MIR1302-2HG', 'FAM138A', 'OR4F5', 'AL627309.1', 'AL627309.3',\n",
       "       'AL627309.2', 'AL627309.5', 'AL627309.4', 'AP006222.2', 'AL732372.1',\n",
       "       ...\n",
       "       'AC133551.1', 'AC136612.1', 'AC136616.1', 'AC136616.3', 'AC136616.2',\n",
       "       'AC141272.1', 'AC023491.2', 'AC007325.1', 'AC007325.4', 'AC007325.2'],\n",
       "      dtype='object', length=36601)"
      ]
     },
     "execution_count": 14,
     "metadata": {},
     "output_type": "execute_result"
    }
   ],
   "source": [
    "dat.var_names"
   ]
  },
  {
   "cell_type": "code",
   "execution_count": 17,
   "id": "fa0b750b-5e38-427c-955e-e05f91c569df",
   "metadata": {},
   "outputs": [
    {
     "data": {
      "text/plain": [
       "Index(['AAACCCAAGCGTATGG-1', 'AAACGAAAGATAGCAT-1', 'AAAGAACCACCTGCGA-1',\n",
       "       'AAAGGATAGATTGTGA-1', 'AAAGGATAGCCGATTT-1', 'AAAGGATTCCTCAGGG-1',\n",
       "       'AAAGTCCAGCTATCTG-1', 'AAAGTCCAGCTATTTG-1', 'AAAGTCCTCGACCCAG-1',\n",
       "       'AAAGTGAAGCATCGAG-1',\n",
       "       ...\n",
       "       'TTTGACTGTTCAGCTA-1', 'TTTGACTTCTACGCGG-1', 'TTTGATCAGTTGCATC-1',\n",
       "       'TTTGATCTCAGGCGAA-1', 'TTTGGAGCAATGAACA-1', 'TTTGGAGCACTGCGAC-1',\n",
       "       'TTTGGAGGTATCCCAA-1', 'TTTGGAGTCACGATCA-1', 'TTTGGTTAGCCGGAAT-1',\n",
       "       'TTTGTTGGTTCCGCTT-1'],\n",
       "      dtype='object', length=1089)"
      ]
     },
     "execution_count": 17,
     "metadata": {},
     "output_type": "execute_result"
    }
   ],
   "source": [
    "dat.obs_names"
   ]
  },
  {
   "cell_type": "code",
   "execution_count": 67,
   "id": "73747637-1463-4c59-b996-041dd80cca1f",
   "metadata": {},
   "outputs": [],
   "source": [
    "pd_dat = dat.to_df()"
   ]
  },
  {
   "cell_type": "code",
   "execution_count": 78,
   "id": "778ecf86-9126-4732-8819-3301a9995e3b",
   "metadata": {},
   "outputs": [],
   "source": [
    "col_sel = pd_dat.columns[(pd_dat.sum(axis=0)!=0).values]\n",
    "pd_sub_dat = pd_dat[col_sel]"
   ]
  },
  {
   "cell_type": "code",
   "execution_count": 79,
   "id": "f63fc05a-70f4-447e-acb8-8aa9313e1fdd",
   "metadata": {},
   "outputs": [
    {
     "data": {
      "text/html": [
       "<div>\n",
       "<style scoped>\n",
       "    .dataframe tbody tr th:only-of-type {\n",
       "        vertical-align: middle;\n",
       "    }\n",
       "\n",
       "    .dataframe tbody tr th {\n",
       "        vertical-align: top;\n",
       "    }\n",
       "\n",
       "    .dataframe thead th {\n",
       "        text-align: right;\n",
       "    }\n",
       "</style>\n",
       "<table border=\"1\" class=\"dataframe\">\n",
       "  <thead>\n",
       "    <tr style=\"text-align: right;\">\n",
       "      <th></th>\n",
       "      <th>AL627309.1</th>\n",
       "      <th>AL627309.5</th>\n",
       "      <th>AL669831.2</th>\n",
       "      <th>LINC01409</th>\n",
       "      <th>LINC01128</th>\n",
       "      <th>LINC00115</th>\n",
       "      <th>FAM41C</th>\n",
       "      <th>AL645608.6</th>\n",
       "      <th>AL645608.2</th>\n",
       "      <th>LINC02593</th>\n",
       "      <th>...</th>\n",
       "      <th>MT-CYB</th>\n",
       "      <th>BX004987.1</th>\n",
       "      <th>AC145212.1</th>\n",
       "      <th>MAFIP</th>\n",
       "      <th>AC011043.1</th>\n",
       "      <th>AL354822.1</th>\n",
       "      <th>AL592183.1</th>\n",
       "      <th>AC240274.1</th>\n",
       "      <th>AC007325.4</th>\n",
       "      <th>AC007325.2</th>\n",
       "    </tr>\n",
       "  </thead>\n",
       "  <tbody>\n",
       "    <tr>\n",
       "      <th>AAACCCAAGCGTATGG-1</th>\n",
       "      <td>0.0</td>\n",
       "      <td>0.0</td>\n",
       "      <td>0.0</td>\n",
       "      <td>0.0</td>\n",
       "      <td>0.0</td>\n",
       "      <td>0.0</td>\n",
       "      <td>0.0</td>\n",
       "      <td>0.0</td>\n",
       "      <td>0.0</td>\n",
       "      <td>0.0</td>\n",
       "      <td>...</td>\n",
       "      <td>105.0</td>\n",
       "      <td>0.0</td>\n",
       "      <td>0.0</td>\n",
       "      <td>0.0</td>\n",
       "      <td>0.0</td>\n",
       "      <td>0.0</td>\n",
       "      <td>0.0</td>\n",
       "      <td>2.0</td>\n",
       "      <td>0.0</td>\n",
       "      <td>0.0</td>\n",
       "    </tr>\n",
       "    <tr>\n",
       "      <th>AAACGAAAGATAGCAT-1</th>\n",
       "      <td>0.0</td>\n",
       "      <td>0.0</td>\n",
       "      <td>0.0</td>\n",
       "      <td>0.0</td>\n",
       "      <td>0.0</td>\n",
       "      <td>0.0</td>\n",
       "      <td>0.0</td>\n",
       "      <td>0.0</td>\n",
       "      <td>0.0</td>\n",
       "      <td>0.0</td>\n",
       "      <td>...</td>\n",
       "      <td>6.0</td>\n",
       "      <td>0.0</td>\n",
       "      <td>0.0</td>\n",
       "      <td>0.0</td>\n",
       "      <td>0.0</td>\n",
       "      <td>0.0</td>\n",
       "      <td>0.0</td>\n",
       "      <td>0.0</td>\n",
       "      <td>0.0</td>\n",
       "      <td>0.0</td>\n",
       "    </tr>\n",
       "    <tr>\n",
       "      <th>AAAGAACCACCTGCGA-1</th>\n",
       "      <td>0.0</td>\n",
       "      <td>0.0</td>\n",
       "      <td>0.0</td>\n",
       "      <td>0.0</td>\n",
       "      <td>0.0</td>\n",
       "      <td>0.0</td>\n",
       "      <td>0.0</td>\n",
       "      <td>0.0</td>\n",
       "      <td>0.0</td>\n",
       "      <td>0.0</td>\n",
       "      <td>...</td>\n",
       "      <td>543.0</td>\n",
       "      <td>0.0</td>\n",
       "      <td>0.0</td>\n",
       "      <td>0.0</td>\n",
       "      <td>1.0</td>\n",
       "      <td>0.0</td>\n",
       "      <td>0.0</td>\n",
       "      <td>0.0</td>\n",
       "      <td>0.0</td>\n",
       "      <td>0.0</td>\n",
       "    </tr>\n",
       "    <tr>\n",
       "      <th>AAAGGATAGATTGTGA-1</th>\n",
       "      <td>0.0</td>\n",
       "      <td>0.0</td>\n",
       "      <td>0.0</td>\n",
       "      <td>0.0</td>\n",
       "      <td>0.0</td>\n",
       "      <td>0.0</td>\n",
       "      <td>0.0</td>\n",
       "      <td>0.0</td>\n",
       "      <td>0.0</td>\n",
       "      <td>0.0</td>\n",
       "      <td>...</td>\n",
       "      <td>1.0</td>\n",
       "      <td>0.0</td>\n",
       "      <td>0.0</td>\n",
       "      <td>0.0</td>\n",
       "      <td>0.0</td>\n",
       "      <td>0.0</td>\n",
       "      <td>0.0</td>\n",
       "      <td>0.0</td>\n",
       "      <td>0.0</td>\n",
       "      <td>0.0</td>\n",
       "    </tr>\n",
       "    <tr>\n",
       "      <th>AAAGGATAGCCGATTT-1</th>\n",
       "      <td>0.0</td>\n",
       "      <td>0.0</td>\n",
       "      <td>0.0</td>\n",
       "      <td>0.0</td>\n",
       "      <td>0.0</td>\n",
       "      <td>0.0</td>\n",
       "      <td>2.0</td>\n",
       "      <td>0.0</td>\n",
       "      <td>0.0</td>\n",
       "      <td>0.0</td>\n",
       "      <td>...</td>\n",
       "      <td>271.0</td>\n",
       "      <td>0.0</td>\n",
       "      <td>0.0</td>\n",
       "      <td>1.0</td>\n",
       "      <td>0.0</td>\n",
       "      <td>0.0</td>\n",
       "      <td>0.0</td>\n",
       "      <td>1.0</td>\n",
       "      <td>0.0</td>\n",
       "      <td>0.0</td>\n",
       "    </tr>\n",
       "    <tr>\n",
       "      <th>...</th>\n",
       "      <td>...</td>\n",
       "      <td>...</td>\n",
       "      <td>...</td>\n",
       "      <td>...</td>\n",
       "      <td>...</td>\n",
       "      <td>...</td>\n",
       "      <td>...</td>\n",
       "      <td>...</td>\n",
       "      <td>...</td>\n",
       "      <td>...</td>\n",
       "      <td>...</td>\n",
       "      <td>...</td>\n",
       "      <td>...</td>\n",
       "      <td>...</td>\n",
       "      <td>...</td>\n",
       "      <td>...</td>\n",
       "      <td>...</td>\n",
       "      <td>...</td>\n",
       "      <td>...</td>\n",
       "      <td>...</td>\n",
       "      <td>...</td>\n",
       "    </tr>\n",
       "    <tr>\n",
       "      <th>TTTGGAGCACTGCGAC-1</th>\n",
       "      <td>0.0</td>\n",
       "      <td>0.0</td>\n",
       "      <td>0.0</td>\n",
       "      <td>0.0</td>\n",
       "      <td>0.0</td>\n",
       "      <td>0.0</td>\n",
       "      <td>0.0</td>\n",
       "      <td>0.0</td>\n",
       "      <td>0.0</td>\n",
       "      <td>0.0</td>\n",
       "      <td>...</td>\n",
       "      <td>26.0</td>\n",
       "      <td>0.0</td>\n",
       "      <td>0.0</td>\n",
       "      <td>0.0</td>\n",
       "      <td>0.0</td>\n",
       "      <td>0.0</td>\n",
       "      <td>0.0</td>\n",
       "      <td>0.0</td>\n",
       "      <td>0.0</td>\n",
       "      <td>0.0</td>\n",
       "    </tr>\n",
       "    <tr>\n",
       "      <th>TTTGGAGGTATCCCAA-1</th>\n",
       "      <td>0.0</td>\n",
       "      <td>0.0</td>\n",
       "      <td>0.0</td>\n",
       "      <td>0.0</td>\n",
       "      <td>0.0</td>\n",
       "      <td>0.0</td>\n",
       "      <td>0.0</td>\n",
       "      <td>0.0</td>\n",
       "      <td>0.0</td>\n",
       "      <td>0.0</td>\n",
       "      <td>...</td>\n",
       "      <td>1.0</td>\n",
       "      <td>0.0</td>\n",
       "      <td>0.0</td>\n",
       "      <td>0.0</td>\n",
       "      <td>0.0</td>\n",
       "      <td>0.0</td>\n",
       "      <td>0.0</td>\n",
       "      <td>0.0</td>\n",
       "      <td>0.0</td>\n",
       "      <td>0.0</td>\n",
       "    </tr>\n",
       "    <tr>\n",
       "      <th>TTTGGAGTCACGATCA-1</th>\n",
       "      <td>0.0</td>\n",
       "      <td>0.0</td>\n",
       "      <td>0.0</td>\n",
       "      <td>0.0</td>\n",
       "      <td>0.0</td>\n",
       "      <td>0.0</td>\n",
       "      <td>0.0</td>\n",
       "      <td>0.0</td>\n",
       "      <td>0.0</td>\n",
       "      <td>0.0</td>\n",
       "      <td>...</td>\n",
       "      <td>74.0</td>\n",
       "      <td>0.0</td>\n",
       "      <td>0.0</td>\n",
       "      <td>0.0</td>\n",
       "      <td>0.0</td>\n",
       "      <td>0.0</td>\n",
       "      <td>0.0</td>\n",
       "      <td>3.0</td>\n",
       "      <td>0.0</td>\n",
       "      <td>0.0</td>\n",
       "    </tr>\n",
       "    <tr>\n",
       "      <th>TTTGGTTAGCCGGAAT-1</th>\n",
       "      <td>0.0</td>\n",
       "      <td>0.0</td>\n",
       "      <td>0.0</td>\n",
       "      <td>0.0</td>\n",
       "      <td>0.0</td>\n",
       "      <td>0.0</td>\n",
       "      <td>0.0</td>\n",
       "      <td>0.0</td>\n",
       "      <td>0.0</td>\n",
       "      <td>0.0</td>\n",
       "      <td>...</td>\n",
       "      <td>314.0</td>\n",
       "      <td>0.0</td>\n",
       "      <td>0.0</td>\n",
       "      <td>0.0</td>\n",
       "      <td>0.0</td>\n",
       "      <td>0.0</td>\n",
       "      <td>1.0</td>\n",
       "      <td>1.0</td>\n",
       "      <td>0.0</td>\n",
       "      <td>0.0</td>\n",
       "    </tr>\n",
       "    <tr>\n",
       "      <th>TTTGTTGGTTCCGCTT-1</th>\n",
       "      <td>0.0</td>\n",
       "      <td>0.0</td>\n",
       "      <td>0.0</td>\n",
       "      <td>0.0</td>\n",
       "      <td>0.0</td>\n",
       "      <td>0.0</td>\n",
       "      <td>0.0</td>\n",
       "      <td>0.0</td>\n",
       "      <td>0.0</td>\n",
       "      <td>0.0</td>\n",
       "      <td>...</td>\n",
       "      <td>1.0</td>\n",
       "      <td>0.0</td>\n",
       "      <td>0.0</td>\n",
       "      <td>0.0</td>\n",
       "      <td>0.0</td>\n",
       "      <td>0.0</td>\n",
       "      <td>0.0</td>\n",
       "      <td>0.0</td>\n",
       "      <td>0.0</td>\n",
       "      <td>0.0</td>\n",
       "    </tr>\n",
       "  </tbody>\n",
       "</table>\n",
       "<p>1089 rows × 21479 columns</p>\n",
       "</div>"
      ],
      "text/plain": [
       "                    AL627309.1  AL627309.5  AL669831.2  LINC01409  LINC01128  \\\n",
       "AAACCCAAGCGTATGG-1         0.0         0.0         0.0        0.0        0.0   \n",
       "AAACGAAAGATAGCAT-1         0.0         0.0         0.0        0.0        0.0   \n",
       "AAAGAACCACCTGCGA-1         0.0         0.0         0.0        0.0        0.0   \n",
       "AAAGGATAGATTGTGA-1         0.0         0.0         0.0        0.0        0.0   \n",
       "AAAGGATAGCCGATTT-1         0.0         0.0         0.0        0.0        0.0   \n",
       "...                        ...         ...         ...        ...        ...   \n",
       "TTTGGAGCACTGCGAC-1         0.0         0.0         0.0        0.0        0.0   \n",
       "TTTGGAGGTATCCCAA-1         0.0         0.0         0.0        0.0        0.0   \n",
       "TTTGGAGTCACGATCA-1         0.0         0.0         0.0        0.0        0.0   \n",
       "TTTGGTTAGCCGGAAT-1         0.0         0.0         0.0        0.0        0.0   \n",
       "TTTGTTGGTTCCGCTT-1         0.0         0.0         0.0        0.0        0.0   \n",
       "\n",
       "                    LINC00115  FAM41C  AL645608.6  AL645608.2  LINC02593  ...  \\\n",
       "AAACCCAAGCGTATGG-1        0.0     0.0         0.0         0.0        0.0  ...   \n",
       "AAACGAAAGATAGCAT-1        0.0     0.0         0.0         0.0        0.0  ...   \n",
       "AAAGAACCACCTGCGA-1        0.0     0.0         0.0         0.0        0.0  ...   \n",
       "AAAGGATAGATTGTGA-1        0.0     0.0         0.0         0.0        0.0  ...   \n",
       "AAAGGATAGCCGATTT-1        0.0     2.0         0.0         0.0        0.0  ...   \n",
       "...                       ...     ...         ...         ...        ...  ...   \n",
       "TTTGGAGCACTGCGAC-1        0.0     0.0         0.0         0.0        0.0  ...   \n",
       "TTTGGAGGTATCCCAA-1        0.0     0.0         0.0         0.0        0.0  ...   \n",
       "TTTGGAGTCACGATCA-1        0.0     0.0         0.0         0.0        0.0  ...   \n",
       "TTTGGTTAGCCGGAAT-1        0.0     0.0         0.0         0.0        0.0  ...   \n",
       "TTTGTTGGTTCCGCTT-1        0.0     0.0         0.0         0.0        0.0  ...   \n",
       "\n",
       "                    MT-CYB  BX004987.1  AC145212.1  MAFIP  AC011043.1  \\\n",
       "AAACCCAAGCGTATGG-1   105.0         0.0         0.0    0.0         0.0   \n",
       "AAACGAAAGATAGCAT-1     6.0         0.0         0.0    0.0         0.0   \n",
       "AAAGAACCACCTGCGA-1   543.0         0.0         0.0    0.0         1.0   \n",
       "AAAGGATAGATTGTGA-1     1.0         0.0         0.0    0.0         0.0   \n",
       "AAAGGATAGCCGATTT-1   271.0         0.0         0.0    1.0         0.0   \n",
       "...                    ...         ...         ...    ...         ...   \n",
       "TTTGGAGCACTGCGAC-1    26.0         0.0         0.0    0.0         0.0   \n",
       "TTTGGAGGTATCCCAA-1     1.0         0.0         0.0    0.0         0.0   \n",
       "TTTGGAGTCACGATCA-1    74.0         0.0         0.0    0.0         0.0   \n",
       "TTTGGTTAGCCGGAAT-1   314.0         0.0         0.0    0.0         0.0   \n",
       "TTTGTTGGTTCCGCTT-1     1.0         0.0         0.0    0.0         0.0   \n",
       "\n",
       "                    AL354822.1  AL592183.1  AC240274.1  AC007325.4  AC007325.2  \n",
       "AAACCCAAGCGTATGG-1         0.0         0.0         2.0         0.0         0.0  \n",
       "AAACGAAAGATAGCAT-1         0.0         0.0         0.0         0.0         0.0  \n",
       "AAAGAACCACCTGCGA-1         0.0         0.0         0.0         0.0         0.0  \n",
       "AAAGGATAGATTGTGA-1         0.0         0.0         0.0         0.0         0.0  \n",
       "AAAGGATAGCCGATTT-1         0.0         0.0         1.0         0.0         0.0  \n",
       "...                        ...         ...         ...         ...         ...  \n",
       "TTTGGAGCACTGCGAC-1         0.0         0.0         0.0         0.0         0.0  \n",
       "TTTGGAGGTATCCCAA-1         0.0         0.0         0.0         0.0         0.0  \n",
       "TTTGGAGTCACGATCA-1         0.0         0.0         3.0         0.0         0.0  \n",
       "TTTGGTTAGCCGGAAT-1         0.0         1.0         1.0         0.0         0.0  \n",
       "TTTGTTGGTTCCGCTT-1         0.0         0.0         0.0         0.0         0.0  \n",
       "\n",
       "[1089 rows x 21479 columns]"
      ]
     },
     "execution_count": 79,
     "metadata": {},
     "output_type": "execute_result"
    }
   ],
   "source": [
    "pd_sub_dat"
   ]
  },
  {
   "cell_type": "code",
   "execution_count": 20,
   "id": "c5f23816-50ae-49d4-a550-dd58a3ebd2d9",
   "metadata": {},
   "outputs": [
    {
     "data": {
      "text/plain": [
       "anndata._core.anndata.AnnData"
      ]
     },
     "execution_count": 20,
     "metadata": {},
     "output_type": "execute_result"
    }
   ],
   "source": [
    "type(dat)"
   ]
  },
  {
   "cell_type": "code",
   "execution_count": 24,
   "id": "e88f1925-fa07-49ff-9c73-2969a7bf8f86",
   "metadata": {},
   "outputs": [
    {
     "data": {
      "text/plain": [
       "<1089x36601 sparse matrix of type '<class 'numpy.float32'>'\n",
       "\twith 3007469 stored elements in Compressed Sparse Row format>"
      ]
     },
     "execution_count": 24,
     "metadata": {},
     "output_type": "execute_result"
    }
   ],
   "source": [
    "dat.X"
   ]
  }
 ],
 "metadata": {
  "kernelspec": {
   "display_name": "Python [conda env:.conda-sc-tutorial]",
   "language": "python",
   "name": "conda-env-.conda-sc-tutorial-py"
  },
  "language_info": {
   "codemirror_mode": {
    "name": "ipython",
    "version": 3
   },
   "file_extension": ".py",
   "mimetype": "text/x-python",
   "name": "python",
   "nbconvert_exporter": "python",
   "pygments_lexer": "ipython3",
   "version": "3.6.15"
  }
 },
 "nbformat": 4,
 "nbformat_minor": 5
}
